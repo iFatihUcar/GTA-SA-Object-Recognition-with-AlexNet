{
 "cells": [
  {
   "cell_type": "code",
   "execution_count": 1,
   "metadata": {},
   "outputs": [],
   "source": [
    "import cv2\n",
    "import numpy as np\n",
    "\n",
    "\n",
    "# Car[1,0]\n",
    "# Human [0,1]\n",
    "\n",
    "train_X = []\n",
    "train_Y = []\n",
    "\n",
    "test_X = []\n",
    "test_Y = []\n",
    "\n",
    "for i in range(1,101):\n",
    "    image = cv2.imread(\"Obje-Veri-Seti/Car-Train/Araba-\"+str(i) + \".jpg\")\n",
    "    image = cv2.resize(image, (224,224))\n",
    "    image = cv2.cvtColor(image, cv2.COLOR_RGB2GRAY)\n",
    "    train_X.append([image])\n",
    "    \n",
    "for i in range(1,101):\n",
    "    image = cv2.imread(\"Obje-Veri-Seti/Human-Train/insan-\"+str(i) + \".jpg\")\n",
    "    image = cv2.resize(image, (224,224))\n",
    "    image = cv2.cvtColor(image, cv2.COLOR_RGB2GRAY)\n",
    "    train_X.append([image])\n",
    "\n",
    "for i in range(1,101):\n",
    "    train_Y.append([1,0])#Car\n",
    "for i in range(1,101):\n",
    "    train_Y.append([0,1])#Human\n",
    "    \n",
    "\n"
   ]
  },
  {
   "cell_type": "code",
   "execution_count": 2,
   "metadata": {},
   "outputs": [
    {
     "name": "stdout",
     "output_type": "stream",
     "text": [
      "200\n"
     ]
    }
   ],
   "source": [
    "import matplotlib.pyplot as plt\n",
    "\n",
    "#plt.show(train_X)\n",
    "print(len(train_X))"
   ]
  },
  {
   "cell_type": "code",
   "execution_count": 3,
   "metadata": {},
   "outputs": [
    {
     "name": "stderr",
     "output_type": "stream",
     "text": [
      "Using TensorFlow backend.\n"
     ]
    }
   ],
   "source": [
    "from keras import models\n",
    "from keras import layers\n",
    "from keras.layers import Dense, Flatten, Reshape\n",
    "\n",
    "model = models.Sequential()\n",
    "model.add(layers.Dense(2048,activation = \"relu\", input_shape = (1,224,224,)))\n",
    "model.add(Flatten())\n",
    "model.add(layers.Dense(2, activation = \"softmax\"))"
   ]
  },
  {
   "cell_type": "code",
   "execution_count": 4,
   "metadata": {},
   "outputs": [
    {
     "name": "stdout",
     "output_type": "stream",
     "text": [
      "(200, 1, 224, 224)\n"
     ]
    }
   ],
   "source": [
    "train_X = np.array(train_X)\n",
    "train_X.reshape(-1,224,224)\n",
    "print(train_X.shape)"
   ]
  },
  {
   "cell_type": "code",
   "execution_count": 6,
   "metadata": {},
   "outputs": [],
   "source": [
    "train_Y = np.array(train_Y)"
   ]
  },
  {
   "cell_type": "code",
   "execution_count": 7,
   "metadata": {},
   "outputs": [],
   "source": [
    "model.compile(optimizer=\"Adam\",\n",
    "             loss=\"categorical_crossentropy\",\n",
    "             metrics = [\"accuracy\"])"
   ]
  },
  {
   "cell_type": "code",
   "execution_count": 8,
   "metadata": {},
   "outputs": [
    {
     "name": "stdout",
     "output_type": "stream",
     "text": [
      "Epoch 1/20\n",
      "200/200 [==============================] - 1s 3ms/step - loss: 1168.8290 - accuracy: 0.5250\n",
      "Epoch 2/20\n",
      "200/200 [==============================] - 0s 2ms/step - loss: 40.8572 - accuracy: 0.7700\n",
      "Epoch 3/20\n",
      "200/200 [==============================] - 0s 2ms/step - loss: 17.6197 - accuracy: 0.7700\n",
      "Epoch 4/20\n",
      "200/200 [==============================] - 0s 2ms/step - loss: 2.2414 - accuracy: 0.9450\n",
      "Epoch 5/20\n",
      "200/200 [==============================] - 0s 2ms/step - loss: 1.3193 - accuracy: 0.9500\n",
      "Epoch 6/20\n",
      "200/200 [==============================] - 0s 2ms/step - loss: 2.8726 - accuracy: 0.9150\n",
      "Epoch 7/20\n",
      "200/200 [==============================] - 0s 2ms/step - loss: 0.2311 - accuracy: 0.9850\n",
      "Epoch 8/20\n",
      "200/200 [==============================] - 0s 2ms/step - loss: 0.0695 - accuracy: 0.9950\n",
      "Epoch 9/20\n",
      "200/200 [==============================] - 0s 2ms/step - loss: 1.6266 - accuracy: 0.9400\n",
      "Epoch 10/20\n",
      "200/200 [==============================] - 0s 2ms/step - loss: 2.5244 - accuracy: 0.9100\n",
      "Epoch 11/20\n",
      "200/200 [==============================] - 0s 2ms/step - loss: 9.5418 - accuracy: 0.8700\n",
      "Epoch 12/20\n",
      "200/200 [==============================] - 0s 2ms/step - loss: 6.6929 - accuracy: 0.8700\n",
      "Epoch 13/20\n",
      "200/200 [==============================] - 0s 2ms/step - loss: 1.2046 - accuracy: 0.9650\n",
      "Epoch 14/20\n",
      "200/200 [==============================] - 0s 2ms/step - loss: 1.2823 - accuracy: 0.9700\n",
      "Epoch 15/20\n",
      "200/200 [==============================] - 0s 2ms/step - loss: 2.0721 - accuracy: 0.9500\n",
      "Epoch 16/20\n",
      "200/200 [==============================] - 0s 2ms/step - loss: 6.1567 - accuracy: 0.8950\n",
      "Epoch 17/20\n",
      "200/200 [==============================] - 0s 2ms/step - loss: 0.9130 - accuracy: 0.9800\n",
      "Epoch 18/20\n",
      "200/200 [==============================] - 0s 2ms/step - loss: 1.2337 - accuracy: 0.9550\n",
      "Epoch 19/20\n",
      "200/200 [==============================] - 0s 2ms/step - loss: 1.3113e-08 - accuracy: 1.0000\n",
      "Epoch 20/20\n",
      "200/200 [==============================] - 0s 2ms/step - loss: 1.2854 - accuracy: 0.9700\n"
     ]
    },
    {
     "data": {
      "text/plain": [
       "<keras.callbacks.callbacks.History at 0x27b376c2b48>"
      ]
     },
     "execution_count": 8,
     "metadata": {},
     "output_type": "execute_result"
    }
   ],
   "source": [
    "model.fit(train_X,train_Y,epochs= 20, batch_size = 64)"
   ]
  },
  {
   "cell_type": "code",
   "execution_count": 15,
   "metadata": {},
   "outputs": [],
   "source": [
    "testCar = cv2.imread(\"Obje-Veri-Seti/Car-Test/Araba-26.jpg\")\n",
    "testCar = cv2.resize(testCar, (224,224))\n",
    "testCar = cv2.cvtColor(testCar, cv2.COLOR_RGB2GRAY)\n",
    "\n",
    "testHuman = cv2.imread(\"Obje-Veri-Seti/Human-Test/insan-15.jpg\")\n",
    "testHuman = cv2.resize(testHuman, (224,224))\n",
    "testHuman = cv2.cvtColor(testHuman, cv2.COLOR_RGB2GRAY)\n"
   ]
  },
  {
   "cell_type": "code",
   "execution_count": 16,
   "metadata": {},
   "outputs": [
    {
     "data": {
      "text/plain": [
       "array([[1., 0.]], dtype=float32)"
      ]
     },
     "execution_count": 16,
     "metadata": {},
     "output_type": "execute_result"
    }
   ],
   "source": [
    "testPen = np.array([testCar])\n",
    "model.predict(testPen.reshape(-1,1,224,224))"
   ]
  }
 ],
 "metadata": {
  "kernelspec": {
   "display_name": "Python 3",
   "language": "python",
   "name": "python3"
  },
  "language_info": {
   "codemirror_mode": {
    "name": "ipython",
    "version": 3
   },
   "file_extension": ".py",
   "mimetype": "text/x-python",
   "name": "python",
   "nbconvert_exporter": "python",
   "pygments_lexer": "ipython3",
   "version": "3.7.4"
  }
 },
 "nbformat": 4,
 "nbformat_minor": 2
}
