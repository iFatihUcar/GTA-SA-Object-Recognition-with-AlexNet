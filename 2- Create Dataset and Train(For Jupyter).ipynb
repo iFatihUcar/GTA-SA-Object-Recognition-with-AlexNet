{
 "cells": [
  {
   "cell_type": "code",
   "execution_count": 1,
   "metadata": {},
   "outputs": [],
   "source": [
    "import cv2\n",
    "import numpy as np\n",
    "\n",
    "\n",
    "# 0  car\n",
    "# 1  human\n",
    "\n",
    "X = []\n",
    "y = []\n",
    "\n",
    "for i in range(1,5001):\n",
    "    image = cv2.imread(\"Dataset/car/car-\"+str(i) + \".jpg\")\n",
    "    image = cv2.cvtColor(image, cv2.COLOR_RGB2GRAY)\n",
    "    image = cv2.resize(image, (227,227))\n",
    "    Augment1 = cv2.flip(image, 1)\n",
    "    a,Augment2 = cv2.threshold(image,127,255,cv2.THRESH_BINARY)\n",
    "    a,Augment3 = cv2.threshold(image,127,255,cv2.THRESH_TOZERO)\n",
    "    X.append([image])\n",
    "    X.append([Augment1])\n",
    "    X.append([Augment2])\n",
    "    X.append([Augment3])\n",
    "    \n",
    "for i in range(1,5001):\n",
    "    image = cv2.imread(\"Dataset/human/human-\"+str(i) + \".jpg\")\n",
    "    image = cv2.cvtColor(image, cv2.COLOR_RGB2GRAY)\n",
    "    image = cv2.resize(image, (227,227))\n",
    "    Augment1 = cv2.flip(image, 1)\n",
    "    a,Augment2 = cv2.threshold(image,127,255,cv2.THRESH_BINARY)\n",
    "    a,Augment3 = cv2.threshold(image,127,255,cv2.THRESH_TOZERO)\n",
    "    X.append([image])\n",
    "    X.append([Augment1]) \n",
    "    X.append([Augment2])\n",
    "    X.append([Augment3])\n",
    "    \n",
    "    \n",
    "for i in range(1,20001):\n",
    "    y.append(0)#Car\n",
    "for i in range(1,20001):\n",
    "    y.append(1)#Human\n",
    "\n",
    "X = np.array(X)\n",
    "y = np.array(y)\n",
    "    \n",
    "\n"
   ]
  },
  {
   "cell_type": "code",
   "execution_count": 2,
   "metadata": {},
   "outputs": [],
   "source": [
    "X = X.reshape(-1,227,227,1)\n",
    "\n",
    "\n",
    "from sklearn.model_selection import train_test_split\n",
    "\n",
    "X_train, X_test , y_train, y_test =train_test_split(X,y,test_size=0.05, shuffle = True) # %10 test"
   ]
  },
  {
   "cell_type": "code",
   "execution_count": 3,
   "metadata": {},
   "outputs": [
    {
     "data": {
      "text/plain": [
       "(38000, 227, 227, 1)"
      ]
     },
     "execution_count": 3,
     "metadata": {},
     "output_type": "execute_result"
    }
   ],
   "source": [
    "y_train.shape\n",
    "X_train.shape"
   ]
  },
  {
   "cell_type": "code",
   "execution_count": 4,
   "metadata": {},
   "outputs": [
    {
     "name": "stderr",
     "output_type": "stream",
     "text": [
      "Using TensorFlow backend.\n"
     ]
    },
    {
     "name": "stdout",
     "output_type": "stream",
     "text": [
      "Model: \"sequential_1\"\n",
      "_________________________________________________________________\n",
      "Layer (type)                 Output Shape              Param #   \n",
      "=================================================================\n",
      "conv2d_1 (Conv2D)            (None, 55, 55, 96)        11712     \n",
      "_________________________________________________________________\n",
      "activation_1 (Activation)    (None, 55, 55, 96)        0         \n",
      "_________________________________________________________________\n",
      "max_pooling2d_1 (MaxPooling2 (None, 27, 27, 96)        0         \n",
      "_________________________________________________________________\n",
      "batch_normalization_1 (Batch (None, 27, 27, 96)        384       \n",
      "_________________________________________________________________\n",
      "conv2d_2 (Conv2D)            (None, 17, 17, 256)       2973952   \n",
      "_________________________________________________________________\n",
      "activation_2 (Activation)    (None, 17, 17, 256)       0         \n",
      "_________________________________________________________________\n",
      "max_pooling2d_2 (MaxPooling2 (None, 8, 8, 256)         0         \n",
      "_________________________________________________________________\n",
      "batch_normalization_2 (Batch (None, 8, 8, 256)         1024      \n",
      "_________________________________________________________________\n",
      "conv2d_3 (Conv2D)            (None, 6, 6, 384)         885120    \n",
      "_________________________________________________________________\n",
      "activation_3 (Activation)    (None, 6, 6, 384)         0         \n",
      "_________________________________________________________________\n",
      "batch_normalization_3 (Batch (None, 6, 6, 384)         1536      \n",
      "_________________________________________________________________\n",
      "conv2d_4 (Conv2D)            (None, 4, 4, 384)         1327488   \n",
      "_________________________________________________________________\n",
      "activation_4 (Activation)    (None, 4, 4, 384)         0         \n",
      "_________________________________________________________________\n",
      "batch_normalization_4 (Batch (None, 4, 4, 384)         1536      \n",
      "_________________________________________________________________\n",
      "conv2d_5 (Conv2D)            (None, 2, 2, 256)         884992    \n",
      "_________________________________________________________________\n",
      "activation_5 (Activation)    (None, 2, 2, 256)         0         \n",
      "_________________________________________________________________\n",
      "max_pooling2d_3 (MaxPooling2 (None, 1, 1, 256)         0         \n",
      "_________________________________________________________________\n",
      "batch_normalization_5 (Batch (None, 1, 1, 256)         1024      \n",
      "_________________________________________________________________\n",
      "flatten_1 (Flatten)          (None, 256)               0         \n",
      "_________________________________________________________________\n",
      "dense_1 (Dense)              (None, 4096)              1052672   \n",
      "_________________________________________________________________\n",
      "activation_6 (Activation)    (None, 4096)              0         \n",
      "_________________________________________________________________\n",
      "dropout_1 (Dropout)          (None, 4096)              0         \n",
      "_________________________________________________________________\n",
      "batch_normalization_6 (Batch (None, 4096)              16384     \n",
      "_________________________________________________________________\n",
      "dense_2 (Dense)              (None, 4096)              16781312  \n",
      "_________________________________________________________________\n",
      "activation_7 (Activation)    (None, 4096)              0         \n",
      "_________________________________________________________________\n",
      "dropout_2 (Dropout)          (None, 4096)              0         \n",
      "_________________________________________________________________\n",
      "batch_normalization_7 (Batch (None, 4096)              16384     \n",
      "_________________________________________________________________\n",
      "dense_3 (Dense)              (None, 1000)              4097000   \n",
      "_________________________________________________________________\n",
      "activation_8 (Activation)    (None, 1000)              0         \n",
      "_________________________________________________________________\n",
      "dropout_3 (Dropout)          (None, 1000)              0         \n",
      "_________________________________________________________________\n",
      "batch_normalization_8 (Batch (None, 1000)              4000      \n",
      "_________________________________________________________________\n",
      "dense_4 (Dense)              (None, 1)                 1001      \n",
      "_________________________________________________________________\n",
      "activation_9 (Activation)    (None, 1)                 0         \n",
      "=================================================================\n",
      "Total params: 28,057,521\n",
      "Trainable params: 28,036,385\n",
      "Non-trainable params: 21,136\n",
      "_________________________________________________________________\n"
     ]
    }
   ],
   "source": [
    "\n",
    "import keras\n",
    "from keras.models import Sequential\n",
    "from keras.layers import Dense, Activation, Dropout, Flatten,\\\n",
    " Conv2D, MaxPooling2D\n",
    "from keras.layers.normalization import BatchNormalization\n",
    "import numpy as np\n",
    "from keras.optimizers import Adam\n",
    "\n",
    "# Sequential model\n",
    "model = Sequential()\n",
    "\n",
    "# 1.Convolutional Layer\n",
    "model.add(Conv2D(filters=96, input_shape=(227,227,1), kernel_size=(11,11),\\\n",
    " strides=(4,4), padding='valid'))\n",
    "model.add(Activation('relu'))\n",
    "# Pooling \n",
    "model.add(MaxPooling2D(pool_size=(2,2), strides=(2,2), padding='valid'))\n",
    "# Batch Normalization\n",
    "model.add(BatchNormalization())\n",
    "\n",
    "# 2. Convolutional Layer\n",
    "model.add(Conv2D(filters=256, kernel_size=(11,11), strides=(1,1), padding='valid'))\n",
    "model.add(Activation('relu'))\n",
    "# Pooling\n",
    "model.add(MaxPooling2D(pool_size=(2,2), strides=(2,2), padding='valid'))\n",
    "#  Batch Normalization\n",
    "model.add(BatchNormalization())\n",
    "\n",
    "# 3. Convolutional Layer\n",
    "model.add(Conv2D(filters=384, kernel_size=(3,3), strides=(1,1), padding='valid'))\n",
    "model.add(Activation('relu'))\n",
    "# Batch Normalization\n",
    "model.add(BatchNormalization())\n",
    "\n",
    "# 4. Convolutional Layer\n",
    "model.add(Conv2D(filters=384, kernel_size=(3,3), strides=(1,1), padding='valid'))\n",
    "model.add(Activation('relu'))\n",
    "#  Batch Normalization \n",
    "model.add(BatchNormalization())\n",
    "\n",
    "# 5. Convolutional Layer\n",
    "model.add(Conv2D(filters=256, kernel_size=(3,3), strides=(1,1), padding='valid'))\n",
    "model.add(Activation('relu'))\n",
    "# Pooling\n",
    "model.add(MaxPooling2D(pool_size=(2,2), strides=(2,2), padding='valid'))\n",
    "#  Batch Normalization \n",
    "model.add(BatchNormalization())\n",
    "\n",
    "# Flatten\n",
    "model.add(Flatten())\n",
    "# 1. Layer\n",
    "model.add(Dense(4096, input_shape=(224*224*3,)))\n",
    "model.add(Activation('relu'))\n",
    "# droput for prevent overfitting.\n",
    "model.add(Dropout(0.4))\n",
    "#  Batch Normalization \n",
    "model.add(BatchNormalization())\n",
    "\n",
    "# 2. Layer\n",
    "model.add(Dense(4096)) \n",
    "model.add(Activation('relu'))\n",
    "# droput for prevent overfitting.\n",
    "model.add(Dropout(0.4))\n",
    "#  Batch Normalization \n",
    "model.add(BatchNormalization())\n",
    "\n",
    "#3. Layer\n",
    "model.add(Dense(1000)) # Nodelar\n",
    "model.add(Activation('relu'))\n",
    "# Droput eklenmesi.\n",
    "model.add(Dropout(0.4))\n",
    "#  droput for prevent overfitting\n",
    "model.add(BatchNormalization())\n",
    "\n",
    "# Çıkış Katmanı\n",
    "model.add(Dense(1))\n",
    "model.add(Activation('sigmoid'))\n",
    "\n",
    "model.summary()"
   ]
  },
  {
   "cell_type": "code",
   "execution_count": 5,
   "metadata": {},
   "outputs": [],
   "source": [
    "model.compile(optimizer=\"Adam\",\n",
    "             loss=\"binary_crossentropy\",\n",
    "             metrics = [\"accuracy\"])\n"
   ]
  },
  {
   "cell_type": "code",
   "execution_count": 6,
   "metadata": {},
   "outputs": [
    {
     "name": "stdout",
     "output_type": "stream",
     "text": [
      "Train on 38000 samples, validate on 2000 samples\n",
      "Epoch 1/10\n",
      "38000/38000 [==============================] - 138s 4ms/step - loss: 0.3423 - accuracy: 0.8451 - val_loss: 1.1260 - val_accuracy: 0.7750\n",
      "Epoch 2/10\n",
      "38000/38000 [==============================] - 125s 3ms/step - loss: 0.1158 - accuracy: 0.9520 - val_loss: 0.2609 - val_accuracy: 0.9110\n",
      "Epoch 3/10\n",
      "38000/38000 [==============================] - 126s 3ms/step - loss: 0.0611 - accuracy: 0.9769 - val_loss: 0.3170 - val_accuracy: 0.8880\n",
      "Epoch 4/10\n",
      "38000/38000 [==============================] - 126s 3ms/step - loss: 0.0362 - accuracy: 0.9871 - val_loss: 0.7267 - val_accuracy: 0.8260\n",
      "Epoch 5/10\n",
      "38000/38000 [==============================] - 126s 3ms/step - loss: 0.0263 - accuracy: 0.9908 - val_loss: 0.0274 - val_accuracy: 0.9895\n",
      "Epoch 6/10\n",
      "38000/38000 [==============================] - 126s 3ms/step - loss: 0.0169 - accuracy: 0.9946 - val_loss: 0.0112 - val_accuracy: 0.9970\n",
      "Epoch 7/10\n",
      "38000/38000 [==============================] - 126s 3ms/step - loss: 0.0136 - accuracy: 0.9954 - val_loss: 0.0149 - val_accuracy: 0.9955\n",
      "Epoch 8/10\n",
      "38000/38000 [==============================] - 125s 3ms/step - loss: 0.0087 - accuracy: 0.9973 - val_loss: 0.0067 - val_accuracy: 0.9975\n",
      "Epoch 9/10\n",
      "38000/38000 [==============================] - 126s 3ms/step - loss: 0.0126 - accuracy: 0.9958 - val_loss: 0.0755 - val_accuracy: 0.9795\n",
      "Epoch 10/10\n",
      "38000/38000 [==============================] - 126s 3ms/step - loss: 0.0111 - accuracy: 0.9966 - val_loss: 0.0096 - val_accuracy: 0.9970\n"
     ]
    },
    {
     "data": {
      "text/plain": [
       "<keras.callbacks.callbacks.History at 0x1bd06fe3188>"
      ]
     },
     "execution_count": 6,
     "metadata": {},
     "output_type": "execute_result"
    }
   ],
   "source": [
    "model.fit(X_train, y_train,epochs= 10, batch_size = 128, validation_data = (X_test, y_test)) "
   ]
  },
  {
   "cell_type": "code",
   "execution_count": 8,
   "metadata": {},
   "outputs": [
    {
     "data": {
      "image/png": "[encoded data removed]",
      "text/plain": [
       "<Figure size 432x288 with 1 Axes>"
      ]
     },
     "metadata": {
      "needs_background": "light"
     },
     "output_type": "display_data"
    }
   ],
   "source": [
    "import matplotlib.pyplot as plt\n",
    "\n",
    "\n",
    "plt.plot(model.history.history[\"accuracy\"])\n",
    "plt.plot(model.history.history[\"val_accuracy\"])\n",
    "plt.title(\"Model Accuracy\")\n",
    "plt.ylabel(\"Accuracy\")\n",
    "plt.xlabel(\"Epochs\")\n",
    "plt.legend([\"Train\",\"Test\"], loc= \"upper left\")\n",
    "plt.show()"
   ]
  },
  {
   "cell_type": "code",
   "execution_count": 9,
   "metadata": {},
   "outputs": [],
   "source": [
    "model.save('GTA(16.05.20)-10.h5')"
   ]
  },
  {
   "cell_type": "code",
   "execution_count": null,
   "metadata": {},
   "outputs": [],
   "source": []
  },
  {
   "cell_type": "code",
   "execution_count": null,
   "metadata": {},
   "outputs": [],
   "source": []
  }
 ],
 "metadata": {
  "kernelspec": {
   "display_name": "Python 3",
   "language": "python",
   "name": "python3"
  },
  "language_info": {
   "codemirror_mode": {
    "name": "ipython",
    "version": 3
   },
   "file_extension": ".py",
   "mimetype": "text/x-python",
   "name": "python",
   "nbconvert_exporter": "python",
   "pygments_lexer": "ipython3",
   "version": "3.7.4"
  }
 },
 "nbformat": 4,
 "nbformat_minor": 2
}
