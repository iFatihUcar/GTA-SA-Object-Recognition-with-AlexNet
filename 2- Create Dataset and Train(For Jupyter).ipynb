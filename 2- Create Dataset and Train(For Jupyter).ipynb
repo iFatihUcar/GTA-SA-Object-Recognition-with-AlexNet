{
 "cells": [
  {
   "cell_type": "code",
   "execution_count": 8,
   "metadata": {},
   "outputs": [],
   "source": [
    "import cv2\n",
    "import numpy as np\n",
    "\n",
    "\n",
    "# Car[1,0]\n",
    "# Human [0,1]\n",
    "\n",
    "train_X = []\n",
    "train_Y = []\n",
    "\n",
    "test_X = []\n",
    "test_Y = []\n",
    "\n",
    "for i in range(1,5001):\n",
    "    image = cv2.imread(\"Obje-Veri-Seti/car/car-\"+str(i) + \".jpg\") # Resmi okur.\n",
    "    image = cv2.resize(image, (224,224)) # Resmi Yeniden Şekillendirir.\n",
    "    image = cv2.cvtColor(image, cv2.COLOR_RGB2GRAY) # Resmi Gri Tonlamaya Çevirir.\n",
    "    Augment1 = cv2.flip(image, 1) # Resmi Aynalar.\n",
    "    a,Augment2 = cv2.threshold(image,127,255,cv2.THRESH_BINARY) # Resimi değiştirerek eğitim setini zenginleştirir.\n",
    "    a,Augment3 = cv2.threshold(image,127,255,cv2.THRESH_TOZERO) # Resimi değiştirerek eğitim setini zenginleştirir.\n",
    "    train_X.append([image]) # Resmi Liste içine kaydeder\n",
    "    train_X.append([Augment1]) # Resmi Liste içine kaydeder # Resmi Liste içine kaydeder\n",
    "    train_X.append([Augment2]) # Resmi Liste içine kaydeder\n",
    "    train_X.append([Augment3]) # Resmi Liste içine kaydeder\n",
    "    \n",
    "for i in range(1,5001):\n",
    "    image = cv2.imread(\"Obje-Veri-Seti/human/human-\"+str(i) + \".jpg\")\n",
    "    image = cv2.resize(image, (224,224))\n",
    "    image = cv2.cvtColor(image, cv2.COLOR_RGB2GRAY)\n",
    "    Augment1 = cv2.flip(image, 1) # Resmi Aynalar.\n",
    "    a,Augment2 = cv2.threshold(image,127,255,cv2.THRESH_BINARY) # Resimi değiştirerek eğitim setini zenginleştirir.\n",
    "    a,Augment3 = cv2.threshold(image,127,255,cv2.THRESH_TOZERO) # Resimi değiştirerek eğitim setini zenginleştirir.\n",
    "    train_X.append([image]) # Resmi Liste içine kaydeder\n",
    "    train_X.append([Augment1]) # Resmi Liste içine kaydeder # Resmi Liste içine kaydeder\n",
    "    train_X.append([Augment2]) # Resmi Liste içine kaydeder\n",
    "    train_X.append([Augment3]) # Resmi Liste içine kaydeder\n",
    "    \n",
    "    \n",
    "for i in range(1,20001): # ilk 28700 resim Araba etiketi olan [1,0] ile etiketlenir\n",
    "    train_Y.append([1,0])#Car\n",
    "for i in range(1,20001):  # sonraki 28700 resim İnsan etiketi olan [0,1] ile etiketlenir\n",
    "    train_Y.append([0,1])#Human\n",
    "    \n",
    "\n"
   ]
  },
  {
   "cell_type": "code",
   "execution_count": 9,
   "metadata": {},
   "outputs": [
    {
     "data": {
      "text/plain": [
       "40000"
      ]
     },
     "execution_count": 9,
     "metadata": {},
     "output_type": "execute_result"
    }
   ],
   "source": [
    "len(train_X) # Resimlerin sayısı"
   ]
  },
  {
   "cell_type": "code",
   "execution_count": 10,
   "metadata": {},
   "outputs": [
    {
     "name": "stdout",
     "output_type": "stream",
     "text": [
      "(40000, 1, 224, 224)\n",
      "(40000, 2)\n"
     ]
    }
   ],
   "source": [
    "train_X = np.array(train_X) # Resim listesini Numpy dizisine çevirmek.\n",
    "train_X.reshape(-1,224,224,1) # Numpy dizisini Yapay Sinir Ağına vermek için yeniden çekillendirmek.\n",
    "print(train_X.shape) # Şekillendirilen Train Data setinin şeklini yazdırmak.\n",
    "train_Y = np.array(train_Y) # Etiket listesini numpy dizisine çevirmek\n",
    "print(train_Y.shape)\n",
    "\n",
    "X = np.array([i[0] for i in train_X]).reshape(-1,224,224,1)"
   ]
  },
  {
   "cell_type": "code",
   "execution_count": 11,
   "metadata": {},
   "outputs": [
    {
     "name": "stdout",
     "output_type": "stream",
     "text": [
      "Model: \"sequential_2\"\n",
      "_________________________________________________________________\n",
      "Layer (type)                 Output Shape              Param #   \n",
      "=================================================================\n",
      "conv2d_6 (Conv2D)            (None, 54, 54, 96)        11712     \n",
      "_________________________________________________________________\n",
      "activation_10 (Activation)   (None, 54, 54, 96)        0         \n",
      "_________________________________________________________________\n",
      "max_pooling2d_4 (MaxPooling2 (None, 27, 27, 96)        0         \n",
      "_________________________________________________________________\n",
      "batch_normalization_9 (Batch (None, 27, 27, 96)        384       \n",
      "_________________________________________________________________\n",
      "conv2d_7 (Conv2D)            (None, 17, 17, 256)       2973952   \n",
      "_________________________________________________________________\n",
      "activation_11 (Activation)   (None, 17, 17, 256)       0         \n",
      "_________________________________________________________________\n",
      "max_pooling2d_5 (MaxPooling2 (None, 8, 8, 256)         0         \n",
      "_________________________________________________________________\n",
      "batch_normalization_10 (Batc (None, 8, 8, 256)         1024      \n",
      "_________________________________________________________________\n",
      "conv2d_8 (Conv2D)            (None, 6, 6, 384)         885120    \n",
      "_________________________________________________________________\n",
      "activation_12 (Activation)   (None, 6, 6, 384)         0         \n",
      "_________________________________________________________________\n",
      "batch_normalization_11 (Batc (None, 6, 6, 384)         1536      \n",
      "_________________________________________________________________\n",
      "conv2d_9 (Conv2D)            (None, 4, 4, 384)         1327488   \n",
      "_________________________________________________________________\n",
      "activation_13 (Activation)   (None, 4, 4, 384)         0         \n",
      "_________________________________________________________________\n",
      "batch_normalization_12 (Batc (None, 4, 4, 384)         1536      \n",
      "_________________________________________________________________\n",
      "conv2d_10 (Conv2D)           (None, 2, 2, 256)         884992    \n",
      "_________________________________________________________________\n",
      "activation_14 (Activation)   (None, 2, 2, 256)         0         \n",
      "_________________________________________________________________\n",
      "max_pooling2d_6 (MaxPooling2 (None, 1, 1, 256)         0         \n",
      "_________________________________________________________________\n",
      "batch_normalization_13 (Batc (None, 1, 1, 256)         1024      \n",
      "_________________________________________________________________\n",
      "flatten_2 (Flatten)          (None, 256)               0         \n",
      "_________________________________________________________________\n",
      "dense_5 (Dense)              (None, 4096)              1052672   \n",
      "_________________________________________________________________\n",
      "activation_15 (Activation)   (None, 4096)              0         \n",
      "_________________________________________________________________\n",
      "dropout_4 (Dropout)          (None, 4096)              0         \n",
      "_________________________________________________________________\n",
      "batch_normalization_14 (Batc (None, 4096)              16384     \n",
      "_________________________________________________________________\n",
      "dense_6 (Dense)              (None, 4096)              16781312  \n",
      "_________________________________________________________________\n",
      "activation_16 (Activation)   (None, 4096)              0         \n",
      "_________________________________________________________________\n",
      "dropout_5 (Dropout)          (None, 4096)              0         \n",
      "_________________________________________________________________\n",
      "batch_normalization_15 (Batc (None, 4096)              16384     \n",
      "_________________________________________________________________\n",
      "dense_7 (Dense)              (None, 1000)              4097000   \n",
      "_________________________________________________________________\n",
      "activation_17 (Activation)   (None, 1000)              0         \n",
      "_________________________________________________________________\n",
      "dropout_6 (Dropout)          (None, 1000)              0         \n",
      "_________________________________________________________________\n",
      "batch_normalization_16 (Batc (None, 1000)              4000      \n",
      "_________________________________________________________________\n",
      "dense_8 (Dense)              (None, 2)                 2002      \n",
      "_________________________________________________________________\n",
      "activation_18 (Activation)   (None, 2)                 0         \n",
      "=================================================================\n",
      "Total params: 28,058,522\n",
      "Trainable params: 28,037,386\n",
      "Non-trainable params: 21,136\n",
      "_________________________________________________________________\n"
     ]
    }
   ],
   "source": [
    "\n",
    "import keras\n",
    "from keras.models import Sequential\n",
    "from keras.layers import Dense, Activation, Dropout, Flatten,\\\n",
    " Conv2D, MaxPooling2D\n",
    "from keras.layers.normalization import BatchNormalization\n",
    "import numpy as np\n",
    "from keras.optimizers import Adam\n",
    "\n",
    "# Sequential modelin yaratılması\n",
    "model = Sequential()\n",
    "\n",
    "# 1.Convolutional Katman\n",
    "model.add(Conv2D(filters=96, input_shape=(224,224,1), kernel_size=(11,11),\\\n",
    " strides=(4,4), padding='valid'))\n",
    "model.add(Activation('relu'))\n",
    "# Pooling \n",
    "model.add(MaxPooling2D(pool_size=(2,2), strides=(2,2), padding='valid'))\n",
    "# Sonraki Katmana Geçmeden önce Batch Normalizasyonu \n",
    "model.add(BatchNormalization())\n",
    "\n",
    "# 2. Convolutional Katman\n",
    "model.add(Conv2D(filters=256, kernel_size=(11,11), strides=(1,1), padding='valid'))\n",
    "model.add(Activation('relu'))\n",
    "# Pooling\n",
    "model.add(MaxPooling2D(pool_size=(2,2), strides=(2,2), padding='valid'))\n",
    "#  Batch Normalizasyonu \n",
    "model.add(BatchNormalization())\n",
    "\n",
    "# 3. Convolutional Katman\n",
    "model.add(Conv2D(filters=384, kernel_size=(3,3), strides=(1,1), padding='valid'))\n",
    "model.add(Activation('relu'))\n",
    "# Batch Normalizasyonu \n",
    "model.add(BatchNormalization())\n",
    "\n",
    "# 4. Convolutional Katman\n",
    "model.add(Conv2D(filters=384, kernel_size=(3,3), strides=(1,1), padding='valid'))\n",
    "model.add(Activation('relu'))\n",
    "#  Batch Normalizasyonu \n",
    "model.add(BatchNormalization())\n",
    "\n",
    "# 5. Convolutional Katman\n",
    "model.add(Conv2D(filters=256, kernel_size=(3,3), strides=(1,1), padding='valid'))\n",
    "model.add(Activation('relu'))\n",
    "# Pooling\n",
    "model.add(MaxPooling2D(pool_size=(2,2), strides=(2,2), padding='valid'))\n",
    "#  Batch Normalizasyonu \n",
    "model.add(BatchNormalization())\n",
    "\n",
    "# Gelen verileri düz bir dizi haline getirmek.\n",
    "model.add(Flatten())\n",
    "# 1. Katman\n",
    "model.add(Dense(4096, input_shape=(224*224*3,)))\n",
    "model.add(Activation('relu'))\n",
    "# Aşırı Öğrenmeyi Engellemek İçin Dropout Eklemek.\n",
    "model.add(Dropout(0.4))\n",
    "#  Batch Normalizasyonu \n",
    "model.add(BatchNormalization())\n",
    "\n",
    "# 2. Katman\n",
    "model.add(Dense(4096))  # Nodelar\n",
    "model.add(Activation('relu'))\n",
    "# Dropout Eklemek\n",
    "model.add(Dropout(0.4))\n",
    "#  Batch Normalizasyonu \n",
    "model.add(BatchNormalization())\n",
    "\n",
    "#3. Katman\n",
    "model.add(Dense(1000)) # Nodelar\n",
    "model.add(Activation('relu'))\n",
    "# Droput eklenmesi.\n",
    "model.add(Dropout(0.4))\n",
    "#  Batch Normalizasyonu \n",
    "model.add(BatchNormalization())\n",
    "\n",
    "# Çıkış Katmanı\n",
    "model.add(Dense(2))\n",
    "model.add(Activation('softmax')) # Çıkış softmax aktivasyon fonksiyonu.\n",
    "\n",
    "model.summary() # Sinir Ağının genel Modeli"
   ]
  },
  {
   "cell_type": "code",
   "execution_count": 12,
   "metadata": {},
   "outputs": [],
   "source": [
    "model.compile(optimizer=\"Adam\",\n",
    "             loss=\"categorical_crossentropy\",\n",
    "             metrics = [\"accuracy\"])\n",
    "# Model eğitimi için categorical crossentropy kayıp fonksiyonu kullanılacak.\n",
    "# Optimizer olarak Adam seçildi.\n",
    "# Değer karşılaştırma metriği ise Doğruluğa göre yapılacak."
   ]
  },
  {
   "cell_type": "code",
   "execution_count": 13,
   "metadata": {},
   "outputs": [
    {
     "name": "stdout",
     "output_type": "stream",
     "text": [
      "Epoch 1/5\n",
      "40000/40000 [==============================] - 139s 3ms/step - loss: 0.3559 - accuracy: 0.8497\n",
      "Epoch 2/5\n",
      "40000/40000 [==============================] - 127s 3ms/step - loss: 0.1108 - accuracy: 0.9552\n",
      "Epoch 3/5\n",
      "40000/40000 [==============================] - 127s 3ms/step - loss: 0.0592 - accuracy: 0.9785\n",
      "Epoch 4/5\n",
      "40000/40000 [==============================] - 127s 3ms/step - loss: 0.0370 - accuracy: 0.9870\n",
      "Epoch 5/5\n",
      "40000/40000 [==============================] - 127s 3ms/step - loss: 0.0286 - accuracy: 0.9905\n"
     ]
    },
    {
     "data": {
      "text/plain": [
       "<keras.callbacks.callbacks.History at 0x1d937d7af08>"
      ]
     },
     "execution_count": 13,
     "metadata": {},
     "output_type": "execute_result"
    }
   ],
   "source": [
    "model.fit(X, train_Y,epochs= 5, batch_size = 128) \n",
    "# X data setini, train_Y etiketine göre eğit, 10 Kez üstünden geç, Aynı anda 64 veriyi değerlendir."
   ]
  },
  {
   "cell_type": "code",
   "execution_count": 7,
   "metadata": {},
   "outputs": [],
   "source": [
    "# testCar = cv2.imread(\"Obje-Veri-Seti/car/car-4110.jpg\")\n",
    "# testCar = cv2.resize(testCar, (224,224))\n",
    "# testCar = cv2.cvtColor(testCar, cv2.COLOR_RGB2GRAY)\n",
    "\n",
    "# testHuman = cv2.imread(\"Obje-Veri-Seti/human/human-4330.jpg\")\n",
    "# testHuman = cv2.resize(testHuman, (224,224))\n",
    "# testHuman = cv2.cvtColor(testHuman, cv2.COLOR_RGB2GRAY)\n",
    "\n",
    "# Test için veri hazırlanması\n"
   ]
  },
  {
   "cell_type": "code",
   "execution_count": 8,
   "metadata": {},
   "outputs": [],
   "source": [
    "# testPen = np.array([testCar])\n",
    "# model.predict(testPen.reshape(-1,224,224,1)) # hazırlanan verinin model üzerinde tahmin edilmesi"
   ]
  },
  {
   "cell_type": "code",
   "execution_count": 14,
   "metadata": {},
   "outputs": [],
   "source": [
    "model.save('GTA(25.12.5).h5') # Eğitilen modelin kaydedilmesi"
   ]
  },
  {
   "cell_type": "code",
   "execution_count": null,
   "metadata": {},
   "outputs": [],
   "source": []
  }
 ],
 "metadata": {
  "kernelspec": {
   "display_name": "Python 3",
   "language": "python",
   "name": "python3"
  },
  "language_info": {
   "codemirror_mode": {
    "name": "ipython",
    "version": 3
   },
   "file_extension": ".py",
   "mimetype": "text/x-python",
   "name": "python",
   "nbconvert_exporter": "python",
   "pygments_lexer": "ipython3",
   "version": "3.7.4"
  }
 },
 "nbformat": 4,
 "nbformat_minor": 2
}
