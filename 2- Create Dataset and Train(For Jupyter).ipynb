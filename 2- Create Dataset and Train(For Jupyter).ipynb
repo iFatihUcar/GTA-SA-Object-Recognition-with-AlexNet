{
 "cells": [
  {
   "cell_type": "code",
   "execution_count": 1,
   "metadata": {},
   "outputs": [],
   "source": [
    "import cv2\n",
    "import numpy as np\n",
    "\n",
    "\n",
    "# Car[1,0]\n",
    "# Human [0,1]\n",
    "\n",
    "train_X = []\n",
    "train_Y = []\n",
    "\n",
    "test_X = []\n",
    "test_Y = []\n",
    "\n",
    "for i in range(1,101):\n",
    "    image = cv2.imread(\"Obje-Veri-Seti/Car-Train/Araba-\"+str(i) + \".jpg\")\n",
    "    image = cv2.resize(image, (224,224))\n",
    "    image = cv2.cvtColor(image, cv2.COLOR_RGB2GRAY)\n",
    "    train_X.append([image])\n",
    "    \n",
    "for i in range(1,101):\n",
    "    image = cv2.imread(\"Obje-Veri-Seti/Human-Train/insan-\"+str(i) + \".jpg\")\n",
    "    image = cv2.resize(image, (224,224))\n",
    "    image = cv2.cvtColor(image, cv2.COLOR_RGB2GRAY)\n",
    "    train_X.append([image])\n",
    "\n",
    "for i in range(1,101):\n",
    "    train_Y.append([1,0])#Car\n",
    "for i in range(1,101):\n",
    "    train_Y.append([0,1])#Human\n",
    "    \n",
    "\n"
   ]
  },
  {
   "cell_type": "code",
   "execution_count": 2,
   "metadata": {},
   "outputs": [
    {
     "name": "stdout",
     "output_type": "stream",
     "text": [
      "200\n"
     ]
    }
   ],
   "source": [
    "import matplotlib.pyplot as plt\n",
    "\n",
    "#plt.show(train_X)\n",
    "print(len(train_X))"
   ]
  },
  {
   "cell_type": "code",
   "execution_count": 3,
   "metadata": {},
   "outputs": [
    {
     "name": "stderr",
     "output_type": "stream",
     "text": [
      "Using TensorFlow backend.\n"
     ]
    }
   ],
   "source": [
    "from keras import models\n",
    "from keras import layers\n",
    "from keras.layers import Dense, Flatten, Reshape\n",
    "\n",
    "model = models.Sequential()\n",
    "model.add(layers.Dense(2048,activation = \"relu\", input_shape = (1,224,224,)))\n",
    "model.add(Flatten())\n",
    "model.add(layers.Dense(2, activation = \"softmax\"))"
   ]
  },
  {
   "cell_type": "code",
   "execution_count": 4,
   "metadata": {},
   "outputs": [
    {
     "name": "stdout",
     "output_type": "stream",
     "text": [
      "(200, 1, 224, 224)\n"
     ]
    }
   ],
   "source": [
    "train_X = np.array(train_X)\n",
    "train_X.reshape(-1,224,224)\n",
    "print(train_X.shape)"
   ]
  },
  {
   "cell_type": "code",
   "execution_count": 5,
   "metadata": {},
   "outputs": [],
   "source": [
    "train_Y = np.array(train_Y)"
   ]
  },
  {
   "cell_type": "code",
   "execution_count": 37,
   "metadata": {},
   "outputs": [],
   "source": [
    "model.compile(optimizer=\"Adam\",\n",
    "             loss=\"categorical_crossentropy\",\n",
    "             metrics = [\"accuracy\"])"
   ]
  },
  {
   "cell_type": "code",
   "execution_count": 38,
   "metadata": {},
   "outputs": [
    {
     "name": "stdout",
     "output_type": "stream",
     "text": [
      "Epoch 1/18\n",
      "200/200 [==============================] - 0s 2ms/step - loss: 0.8938 - accuracy: 0.9500\n",
      "Epoch 2/18\n",
      "200/200 [==============================] - 0s 1ms/step - loss: 1.7850 - accuracy: 0.8850\n",
      "Epoch 3/18\n",
      "200/200 [==============================] - 0s 1ms/step - loss: 3.0657e-06 - accuracy: 1.0000\n",
      "Epoch 4/18\n",
      "200/200 [==============================] - 0s 1ms/step - loss: 3.4902 - accuracy: 0.9150\n",
      "Epoch 5/18\n",
      "200/200 [==============================] - 0s 1ms/step - loss: 4.9386 - accuracy: 0.8600\n",
      "Epoch 6/18\n",
      "200/200 [==============================] - 0s 1ms/step - loss: 1.3999 - accuracy: 0.9350\n",
      "Epoch 7/18\n",
      "200/200 [==============================] - 0s 1ms/step - loss: 0.5357 - accuracy: 0.9900\n",
      "Epoch 8/18\n",
      "200/200 [==============================] - 0s 1ms/step - loss: 1.8807 - accuracy: 0.9300\n",
      "Epoch 9/18\n",
      "200/200 [==============================] - 0s 1ms/step - loss: 1.7046 - accuracy: 0.9700\n",
      "Epoch 10/18\n",
      "200/200 [==============================] - 0s 1ms/step - loss: 0.3449 - accuracy: 0.9950\n",
      "Epoch 11/18\n",
      "200/200 [==============================] - 0s 1ms/step - loss: 0.4768 - accuracy: 0.9900\n",
      "Epoch 12/18\n",
      "200/200 [==============================] - 0s 1ms/step - loss: 1.2402e-06 - accuracy: 1.0000\n",
      "Epoch 13/18\n",
      "200/200 [==============================] - 0s 1ms/step - loss: 0.0329 - accuracy: 0.9950\n",
      "Epoch 14/18\n",
      "200/200 [==============================] - 0s 1ms/step - loss: 0.0000e+00 - accuracy: 1.0000\n",
      "Epoch 15/18\n",
      "200/200 [==============================] - 0s 1ms/step - loss: 0.0316 - accuracy: 0.9950\n",
      "Epoch 16/18\n",
      "200/200 [==============================] - 0s 1ms/step - loss: 1.2456e-06 - accuracy: 1.0000\n",
      "Epoch 17/18\n",
      "200/200 [==============================] - 0s 1ms/step - loss: 1.2116 - accuracy: 0.9800\n",
      "Epoch 18/18\n",
      "200/200 [==============================] - 0s 1ms/step - loss: 1.3758 - accuracy: 0.9400\n"
     ]
    },
    {
     "data": {
      "text/plain": [
       "<keras.callbacks.callbacks.History at 0x20886cb3b08>"
      ]
     },
     "execution_count": 38,
     "metadata": {},
     "output_type": "execute_result"
    }
   ],
   "source": [
    "model.fit(train_X,train_Y,epochs= 18, batch_size = 128)"
   ]
  },
  {
   "cell_type": "code",
   "execution_count": 8,
   "metadata": {},
   "outputs": [],
   "source": [
    "testCar = cv2.imread(\"Obje-Veri-Seti/Car-Test/Araba-26.jpg\")\n",
    "testCar = cv2.resize(testCar, (224,224))\n",
    "testCar = cv2.cvtColor(testCar, cv2.COLOR_RGB2GRAY)\n",
    "\n",
    "testHuman = cv2.imread(\"Obje-Veri-Seti/Human-Test/insan-15.jpg\")\n",
    "testHuman = cv2.resize(testHuman, (224,224))\n",
    "testHuman = cv2.cvtColor(testHuman, cv2.COLOR_RGB2GRAY)\n"
   ]
  },
  {
   "cell_type": "code",
   "execution_count": 40,
   "metadata": {},
   "outputs": [
    {
     "data": {
      "text/plain": [
       "array([[1., 0.]], dtype=float32)"
      ]
     },
     "execution_count": 40,
     "metadata": {},
     "output_type": "execute_result"
    }
   ],
   "source": [
    "testPen = np.array([testCar])\n",
    "model.predict(testPen.reshape(-1,1,224,224))"
   ]
  },
  {
   "cell_type": "code",
   "execution_count": 41,
   "metadata": {},
   "outputs": [],
   "source": [
    "model.save('GTA.h5')"
   ]
  },
  {
   "cell_type": "code",
   "execution_count": null,
   "metadata": {},
   "outputs": [],
   "source": []
  }
 ],
 "metadata": {
  "kernelspec": {
   "display_name": "Python 3",
   "language": "python",
   "name": "python3"
  },
  "language_info": {
   "codemirror_mode": {
    "name": "ipython",
    "version": 3
   },
   "file_extension": ".py",
   "mimetype": "text/x-python",
   "name": "python",
   "nbconvert_exporter": "python",
   "pygments_lexer": "ipython3",
   "version": "3.7.4"
  }
 },
 "nbformat": 4,
 "nbformat_minor": 2
}
